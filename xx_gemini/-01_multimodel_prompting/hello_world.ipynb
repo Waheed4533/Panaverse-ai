{
 "cells": [
  {
   "cell_type": "code",
   "execution_count": 1,
   "metadata": {},
   "outputs": [
    {
     "name": "stdout",
     "output_type": "stream",
     "text": [
      "**Quaid-e-Azam Muhammad Ali Jinnah** (December 25, 1876 – September 11, 1948) was a Pakistani lawyer, politician, and the founder of Pakistan. He is commonly known as Quaid-e-Azam (\"Great Leader\") and Baba-e-Qaum (\"Father of the Nation\"). Jinnah served as the first Governor-General of Pakistan from 1947 until his death in 1948.\n",
      "\n",
      "Jinnah was born in Karachi, which was then part of British India. He studied law in England and returned to India in 1896. He quickly rose to prominence as a lawyer and politician, becoming a leader of the All-India Muslim League.\n",
      "\n",
      "Jinnah was a strong advocate for the rights of Indian Muslims, and he played a key role in the creation of Pakistan. In 1940, he passed the Lahore Resolution, which called for the creation of a separate Muslim state in India.\n",
      "\n",
      "After the partition of India in 1947, Jinnah became the first Governor-General of Pakistan. He worked tirelessly to unite the new nation and to establish its place in the world. He died in office in 1948, at the age of 71.\n",
      "\n",
      "Jinnah is considered to be one of the most important figures in Pakistani history. He is remembered as a great leader and statesman who fought for the rights of his people and who helped to create a new nation.\n",
      "\n",
      "Here are some of Jinnah's most famous quotes:\n",
      "\n",
      "* \"There is no power on earth that can undo Pakistan.\"\n",
      "* \"Pakistan came into being because we were a nation again and we had our own distinctive culture and civilization, language and literature, art and architecture, names and nomenclature, sense of values and proportion, legal laws and moral codes, customs and calendar, history and traditions, aptitudes and ambitions; in short, we had our own distinctive outlook on life and of life.\"\n",
      "* \"If you want to keep your country free and safe, then you must become strong and prosperous and you must learn how to defend your country.\"\n",
      "* \"We are determined to build up a strong, independent and sovereign state, in which the rights of all its citizens, irrespective of their creed or caste, are fully protected.\"\n",
      "* \"Islam is our religion, democracy is our polity, social justice is our economic creed, and equality of man and woman is our ideal.\"\n"
     ]
    }
   ],
   "source": [
    "\"\"\"\n",
    "At the command line, only need to run once to install the package via pip:\n",
    "\n",
    "$ pip install google-generativeai\n",
    "\"\"\"\n",
    "\n",
    "import google.generativeai as genai\n",
    "\n",
    "genai.configure(api_key=\"YOUR_API_KEY\")\n",
    "\n",
    "# Set up the model\n",
    "generation_config = {\n",
    "  \"temperature\": 0.9,\n",
    "  \"top_p\": 1,\n",
    "  \"top_k\": 1,\n",
    "  \"max_output_tokens\": 2048,\n",
    "}\n",
    "\n",
    "safety_settings = [\n",
    "  {\n",
    "    \"category\": \"HARM_CATEGORY_HARASSMENT\",\n",
    "    \"threshold\": \"BLOCK_MEDIUM_AND_ABOVE\"\n",
    "  },\n",
    "  {\n",
    "    \"category\": \"HARM_CATEGORY_HATE_SPEECH\",\n",
    "    \"threshold\": \"BLOCK_MEDIUM_AND_ABOVE\"\n",
    "  },\n",
    "  {\n",
    "    \"category\": \"HARM_CATEGORY_SEXUALLY_EXPLICIT\",\n",
    "    \"threshold\": \"BLOCK_MEDIUM_AND_ABOVE\"\n",
    "  },\n",
    "  {\n",
    "    \"category\": \"HARM_CATEGORY_DANGEROUS_CONTENT\",\n",
    "    \"threshold\": \"BLOCK_MEDIUM_AND_ABOVE\"\n",
    "  }\n",
    "]\n",
    "\n",
    "model = genai.GenerativeModel(model_name=\"gemini-pro\",\n",
    "                              generation_config=generation_config,\n",
    "                              safety_settings=safety_settings)\n",
    "\n",
    "prompt_parts = [\n",
    "  \"who is quaid-e-azam?\",\n",
    "]\n",
    "\n",
    "response = model.generate_content(prompt_parts)\n",
    "print(response.text)"
   ]
  },
  {
   "cell_type": "code",
   "execution_count": null,
   "metadata": {},
   "outputs": [],
   "source": []
  }
 ],
 "metadata": {
  "kernelspec": {
   "display_name": "py311",
   "language": "python",
   "name": "python3"
  },
  "language_info": {
   "codemirror_mode": {
    "name": "ipython",
    "version": 3
   },
   "file_extension": ".py",
   "mimetype": "text/x-python",
   "name": "python",
   "nbconvert_exporter": "python",
   "pygments_lexer": "ipython3",
   "version": "3.11.5"
  },
  "orig_nbformat": 4
 },
 "nbformat": 4,
 "nbformat_minor": 2
}
