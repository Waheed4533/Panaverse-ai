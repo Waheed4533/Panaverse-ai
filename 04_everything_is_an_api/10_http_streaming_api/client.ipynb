{
 "cells": [
  {
   "cell_type": "code",
   "execution_count": 10,
   "metadata": {},
   "outputs": [
    {
     "name": "stdout",
     "output_type": "stream",
     "text": [
      "Received data: data: Message 0\n",
      "Received data: data: Message 1\n",
      "Received data: data: Message 2\n",
      "Received data: data: Message 3\n",
      "Received data: data: Message 4\n",
      "Received data: data: Message 5\n",
      "Received data: data: Message 6\n",
      "Received data: data: Message 7\n",
      "Received data: data: Message 8\n",
      "Received data: data: Message 9\n"
     ]
    }
   ],
   "source": [
    "import requests\n",
    "\n",
    "def connect_to_stream():\n",
    "    response = requests.get('http://127.0.0.1:8000/stream', stream=True)\n",
    "\n",
    "    for line in response.iter_lines():\n",
    "        if line:  # Filter out keep-alive new lines\n",
    "            print('Received data:', line.decode('utf-8'))\n",
    "            # Process received data here\n",
    "\n",
    "# if __name__ == '__main__':\n",
    "connect_to_stream()"
   ]
  },
  {
   "cell_type": "code",
   "execution_count": null,
   "metadata": {},
   "outputs": [],
   "source": []
  }
 ],
 "metadata": {
  "kernelspec": {
   "display_name": "py311",
   "language": "python",
   "name": "python3"
  },
  "language_info": {
   "codemirror_mode": {
    "name": "ipython",
    "version": 3
   },
   "file_extension": ".py",
   "mimetype": "text/x-python",
   "name": "python",
   "nbconvert_exporter": "python",
   "pygments_lexer": "ipython3",
   "version": "3.11.5"
  },
  "orig_nbformat": 4
 },
 "nbformat": 4,
 "nbformat_minor": 2
}
