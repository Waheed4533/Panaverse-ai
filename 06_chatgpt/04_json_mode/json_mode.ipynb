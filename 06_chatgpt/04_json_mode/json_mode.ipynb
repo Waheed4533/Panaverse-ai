{
 "cells": [
  {
   "cell_type": "markdown",
   "metadata": {},
   "source": [
    "# JSON Mode\n",
    "\n",
    "Read and watch:\n",
    "\n",
    "https://platform.openai.com/docs/guides/text-generation/json-mode\n",
    "\n",
    "https://community.openai.com/t/how-do-i-use-the-new-json-mode/475890/47 \n",
    "\n",
    "https://www.youtube.com/watch?v=o4q2qsGKVkE\n",
    "\n",
    "https://github.com/rokbenko/openai-api-tutorials/tree/main/Tutorials/%231%20How%20do%20I%20get%20an%20OpenAI%20API%20response%20in%20JSON%20format"
   ]
  },
  {
   "cell_type": "code",
   "execution_count": 2,
   "metadata": {},
   "outputs": [],
   "source": [
    "from openai import OpenAI\n",
    "from dotenv import load_dotenv, find_dotenv\n",
    "\n",
    "_ : bool = load_dotenv(find_dotenv()) # read local .env file\n",
    "\n",
    "client : OpenAI = OpenAI()"
   ]
  },
  {
   "cell_type": "code",
   "execution_count": 3,
   "metadata": {},
   "outputs": [
    {
     "name": "stdout",
     "output_type": "stream",
     "text": [
      "{\n",
      "   \"months\": [\n",
      "      \"April\",\n",
      "      \"June\",\n",
      "      \"September\",\n",
      "      \"November\"\n",
      "   ]\n",
      "}\n"
     ]
    }
   ],
   "source": [
    "response = client.chat.completions.create(\n",
    "  model=\"gpt-3.5-turbo-1106\",\n",
    "  response_format={ \"type\": \"json_object\" },\n",
    "  messages=[\n",
    "    {\"role\": \"system\", \"content\": \"You are a helpful assistant designed to output JSON.\"},\n",
    "    {\"role\": \"user\", \"content\": \"List of months that have 30 days\"}\n",
    "  ]\n",
    ")\n",
    "print(response.choices[0].message.content)"
   ]
  },
  {
   "cell_type": "markdown",
   "metadata": {},
   "source": [
    "Parse JSON - Convert from JSON to Python\n",
    "\n",
    "https://www.w3schools.com/python/python_json.asp"
   ]
  },
  {
   "cell_type": "code",
   "execution_count": 9,
   "metadata": {},
   "outputs": [
    {
     "name": "stdout",
     "output_type": "stream",
     "text": [
      "April\n"
     ]
    }
   ],
   "source": [
    "import json\n",
    "\n",
    "# parse response:\n",
    "obj: dict[str, list[str]] = json.loads(response.choices[0].message.content)\n",
    "\n",
    "# the result is a Python dictionary:\n",
    "print(obj[\"months\"][0])"
   ]
  }
 ],
 "metadata": {
  "kernelspec": {
   "display_name": "base",
   "language": "python",
   "name": "python3"
  },
  "language_info": {
   "codemirror_mode": {
    "name": "ipython",
    "version": 3
   },
   "file_extension": ".py",
   "mimetype": "text/x-python",
   "name": "python",
   "nbconvert_exporter": "python",
   "pygments_lexer": "ipython3",
   "version": "3.11.5"
  }
 },
 "nbformat": 4,
 "nbformat_minor": 2
}
