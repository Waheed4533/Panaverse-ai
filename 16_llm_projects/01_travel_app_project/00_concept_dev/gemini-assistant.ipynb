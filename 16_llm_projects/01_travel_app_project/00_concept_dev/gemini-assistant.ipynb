{
 "cells": [
  {
   "cell_type": "markdown",
   "metadata": {},
   "source": [
    "#### Note\n",
    "You can Skip this NoteBook and come back again after completing all steps of Travel Agent Project.\n",
    "Gemini Streaming API is a Challenge Part that all students will attempt after completing this project with OpenAI SDK.\n",
    "\n",
    "Follow along we we create the Streaming FastAPI microservice in Step 01."
   ]
  },
  {
   "cell_type": "code",
   "execution_count": 30,
   "metadata": {},
   "outputs": [],
   "source": [
    "from vertexai.preview.generative_models import (\n",
    "    Content,\n",
    "    FunctionDeclaration,\n",
    "    GenerativeModel,\n",
    "    Part,\n",
    "    Tool,\n",
    ")\n",
    "from vertexai.generative_models._generative_models import GenerationResponse, ContentsType\n",
    "\n",
    "from typing import Any\n",
    "from typing import Union, Iterable\n",
    "\n",
    "import time\n",
    "import json"
   ]
  },
  {
   "cell_type": "markdown",
   "metadata": {},
   "source": [
    "## Step 1 Create Function And Pydantic Modals To Control The Map"
   ]
  },
  {
   "cell_type": "markdown",
   "metadata": {},
   "source": [
    "#### A. Pydantic Modals"
   ]
  },
  {
   "cell_type": "code",
   "execution_count": 31,
   "metadata": {},
   "outputs": [],
   "source": [
    "# models layer\n",
    "from pydantic import BaseModel, model_validator\n",
    "from typing_extensions import Annotated\n",
    "\n",
    "# Validator functions\n",
    "def validate_latitude(v: float) -> float:\n",
    "    assert -90 <= v <= 90, 'Invalid latitude'\n",
    "    return v\n",
    "\n",
    "def validate_longitude(v: float) -> float:\n",
    "    assert -180 <= v <= 180, 'Invalid longitude'\n",
    "    return v\n",
    "\n",
    "# Annotated types\n",
    "Latitude = Annotated[float, validate_latitude]\n",
    "Longitude = Annotated[float, validate_longitude]\n",
    "\n",
    "# Pydantic models\n",
    "class MapState(BaseModel):\n",
    "    latitude: Latitude\n",
    "    longitude: Longitude\n",
    "    zoom: float\n",
    "\n",
    "class MarkersState(BaseModel):\n",
    "    latitudes: list[Latitude]\n",
    "    longitudes: list[Longitude]\n",
    "    labels: list[str]\n",
    "\n",
    "    @model_validator(mode='after')\n",
    "    def validate_marker_length(self):\n",
    "        if len(self.latitudes) != len(self.longitudes) or len(self.latitudes) != len(self.labels):\n",
    "            raise ValueError(\n",
    "                \"Latitudes, longitudes, and labels must have the same number of elements\")\n",
    "        return self\n"
   ]
  },
  {
   "cell_type": "markdown",
   "metadata": {},
   "source": [
    "#### B. Function To Get Updated Map Coordindates and an inital Map State"
   ]
  },
  {
   "cell_type": "code",
   "execution_count": 32,
   "metadata": {},
   "outputs": [],
   "source": [
    "# data layer\n",
    "from typing import Optional, Any\n",
    "from pydantic import ValidationError\n",
    "\n",
    "# Initial map state with class instances\n",
    "ai_powered_map: dict[str, Any] = {\n",
    "    \"map_state\": MapState(latitude=39.949610, longitude=75.150282, zoom=16).model_dump(),\n",
    "    \"markers_state\": MarkersState(latitudes=[], longitudes=[], labels=[]).model_dump()\n",
    "}\n",
    "# Function to update map and markers\n",
    "def update_map_and_markers(\n",
    "    map_state: Optional[MapState] = None,\n",
    "    markers_state: Optional[MarkersState] = None\n",
    ") -> dict[str, Any]:\n",
    "\n",
    "    response_format = {\"status\": \"\", \"values\": ai_powered_map}\n",
    "    try:\n",
    "        if map_state is not None:\n",
    "            ai_powered_map[\"map_state\"] = map_state.model_dump()\n",
    "\n",
    "        if markers_state is not None:\n",
    "            ai_powered_map[\"markers_state\"] = markers_state.model_dump()\n",
    "\n",
    "        response_format[\"status\"] = \"Map location and markers updated Now continue answering my last question\"\n",
    "\n",
    "    except ValidationError as e:\n",
    "        response_format[\"status\"] = f\"Error update map: {e}, continue answering my last question\"\n",
    "\n",
    "    return response_format"
   ]
  },
  {
   "cell_type": "markdown",
   "metadata": {},
   "source": [
    "## Step 2. Building Gemini Pro Streaming Travel AI Service"
   ]
  },
  {
   "cell_type": "code",
   "execution_count": 33,
   "metadata": {},
   "outputs": [],
   "source": [
    "## Seed Prompt\n",
    "BASE_PROMPT: str = \"\"\"You are an AI Travel Assistant who make global travellers traval planning fun and interactive:\n",
    "\n",
    "Before replying perform the following steps:\n",
    "\n",
    "1. If user share any travel location name, update the map to go to that place and Add markers on the place.\n",
    "2. if user shared any travel suggestions update them map.\n",
    "\n",
    "If user sends any general message share with them you are a helpful AI Travel Assistant and you can help them with travel planning.\n",
    "\"\"\""
   ]
  },
  {
   "cell_type": "markdown",
   "metadata": {},
   "source": [
    "#### A. Create OpenAI Schema for the Gemini Function Calling"
   ]
  },
  {
   "cell_type": "code",
   "execution_count": 34,
   "metadata": {},
   "outputs": [],
   "source": [
    "map_ai_controller_schema = FunctionDeclaration(\n",
    "    name=\"update_map_and_markers\",\n",
    "    description=\"Update map to center on a particular location and add list of markers to the map\",\n",
    "    parameters={\n",
    "        \"type\": \"object\",\n",
    "        \"properties\": {\n",
    "            \"longitude\": {\n",
    "                \"type\": \"number\",\n",
    "                \"description\": \"Longitude of the location to center the map on\"\n",
    "            },\n",
    "            \"latitude\": {\n",
    "                \"type\": \"number\",\n",
    "                \"description\": \"Latitude of the location to center the map on\"\n",
    "            },\n",
    "            \"zoom\": {\n",
    "                \"type\": \"integer\",\n",
    "                \"description\": \"Zoom level of the map\"\n",
    "            },\n",
    "            \"longitudes\": {\n",
    "                \"type\": \"array\",\n",
    "                \"items\": {\n",
    "                    \"type\": \"number\"\n",
    "                },\n",
    "                \"description\": \"List of longitudes for each marker\"\n",
    "            },\n",
    "            \"latitudes\": {\n",
    "                \"type\": \"array\",\n",
    "                \"items\": {\n",
    "                    \"type\": \"number\"\n",
    "                },\n",
    "                \"description\": \"List of latitudes for each marker\"\n",
    "            },\n",
    "            \"labels\": {\n",
    "                \"type\": \"array\",\n",
    "                \"items\": {\n",
    "                    \"type\": \"string\"\n",
    "                },\n",
    "                \"description\": \"List of labels for each marker\"\n",
    "            }\n",
    "        },\n",
    "        \"required\": [\"longitude\", \"latitude\", \"zoom\", \"longitudes\", \"latitudes\", \"labels\"]\n",
    "    }\n",
    ")"
   ]
  },
  {
   "cell_type": "code",
   "execution_count": 35,
   "metadata": {},
   "outputs": [],
   "source": [
    "map_ai_tool = Tool(\n",
    "    function_declarations=[map_ai_controller_schema],\n",
    ")"
   ]
  },
  {
   "cell_type": "code",
   "execution_count": 36,
   "metadata": {},
   "outputs": [],
   "source": [
    "available_functions = {\n",
    "    \"update_map_and_markers\": update_map_and_markers,\n",
    "}"
   ]
  },
  {
   "cell_type": "code",
   "execution_count": 37,
   "metadata": {},
   "outputs": [],
   "source": [
    "# Load Gemini Pro History\n",
    "user_message: Content = Content(role=\"user\", parts=[Part.from_text(BASE_PROMPT)])\n",
    "system_response: Content = Content(role=\"model\", parts=[Part.from_text(\"Got It\")])\n",
    "\n",
    "seed_chat_history = [user_message, system_response]"
   ]
  },
  {
   "cell_type": "code",
   "execution_count": 38,
   "metadata": {},
   "outputs": [],
   "source": [
    "class GeminiTravelBotModal():\n",
    "    def __init__(self, initial_history: list[Content]=seed_chat_history):\n",
    "        self.client: GenerativeModel = GenerativeModel(\"gemini-pro\", generation_config={\"temperature\": 0.4}, tools=[map_ai_tool])\n",
    "        self.assistant = self.client.start_chat(history = initial_history)\n",
    "        self.map_control_values = ai_powered_map\n",
    "\n",
    "    def get_history(self):\n",
    "        return self.assistant.history\n",
    "    \n",
    "    def get_map_control_values(self):\n",
    "        return self.map_control_values\n",
    "\n",
    "    def run_assistant(self, prompt: str):\n",
    "\n",
    "        if self.assistant is None:\n",
    "            raise ValueError(\n",
    "                \"\"\"Assistant is not set. Cannot run assistant without an assistant.\"\"\")\n",
    "\n",
    "        run_res: Union[\"GenerationResponse\", Iterable[\"GenerationResponse\"]] = self.assistant.send_message(prompt, stream=True)\n",
    "        \n",
    "        for message in run_res:\n",
    "            for part in message.candidates[0].content.parts:\n",
    "                try:\n",
    "                    text_content = part.text\n",
    "                    if text_content is not None:\n",
    "                        print(\"Got Text\")\n",
    "                        yield text_content\n",
    "                        continue  # Skip to next message part\n",
    "                except ValueError:\n",
    "                    # Handle cases where 'text' property is present but no actual text content is available\n",
    "                    print(\"ValueError Text\")\n",
    "                    pass\n",
    "\n",
    "                if hasattr(part, 'function_call') and part.function_call is not None:\n",
    "                    print(\"Got Function Response\")\n",
    "                    try:\n",
    "                        function_call = part.function_call  \n",
    "\n",
    "                        # Check if the function name exists in the available_functions dictionary\n",
    "                        if function_call.name in available_functions:\n",
    "                            function_call_name = available_functions[function_call.name]\n",
    "                            print(\"Function Call Name:\", function_call.name)\n",
    "                        else:\n",
    "                            print(f\"Function name '{function_call}' not recognized.\")\n",
    "                            yield f\"DM Dev. Gemini is Sleeping!\"\n",
    "\n",
    "                        # Access 'args'\n",
    "                        if hasattr(function_call, 'args'):\n",
    "                            args = function_call.args\n",
    "\n",
    "                            # Initialize variables with default values\n",
    "                            zoom = 10\n",
    "                            longitude = 0\n",
    "                            latitude = 0\n",
    "                            longitudes, latitudes, labels = [], [], []\n",
    "\n",
    "                            # Iterate over each item in 'args'\n",
    "                            for key, value in args.items():\n",
    "                                # print(\"Key:\", key, \"Value:\", value)\n",
    "\n",
    "                                if key == \"zoom\":\n",
    "                                    try:\n",
    "                                        zoom = value\n",
    "                                    except Exception as e:\n",
    "                                        print(f\"Error with 'zoom': {e}\")\n",
    "                                        pass\n",
    "\n",
    "                                if key == \"longitude\":\n",
    "                                    try:\n",
    "                                        longitude = value\n",
    "                                    except Exception as e:\n",
    "                                        print(f\"Error with 'longitude': {e}\")\n",
    "                                        pass\n",
    "\n",
    "                                if key == \"latitude\":\n",
    "                                    try:\n",
    "                                        latitude = value\n",
    "                                    except Exception as e:\n",
    "                                        print(f\"Error with 'latitude': {e}\")\n",
    "                                        pass\n",
    "\n",
    "                                if key == \"longitudes\":\n",
    "                                    try:\n",
    "                                        longitudes = [v for v in value]\n",
    "                                    except Exception as e:\n",
    "                                        print(f\"Error with 'longitudes': {e}\")\n",
    "                                        pass\n",
    "\n",
    "                                if key == \"latitudes\":\n",
    "                                    try:\n",
    "                                        latitudes = [v for v in value]\n",
    "                                    except Exception as e:\n",
    "                                        print(f\"Error with 'latitudes': {e}\")\n",
    "                                        pass\n",
    "\n",
    "                                if key == \"labels\":\n",
    "                                    try:\n",
    "                                        labels = [v for v in value]\n",
    "                                    except Exception as e:\n",
    "                                        print(f\"Error with 'labels': {e}\")\n",
    "                                        pass\n",
    "\n",
    "\n",
    "                            # Create instances of MapState and MarkersState\n",
    "                            construct_map_state = MapState(latitude=latitude, longitude=longitude, zoom=zoom)\n",
    "                            construct_markers_state = MarkersState(latitudes=latitudes, longitudes=longitudes, labels=labels)\n",
    "\n",
    "                            # Update the map and markers\n",
    "                            update_map_res = function_call_name(map_state=construct_map_state, markers_state=construct_markers_state)\n",
    "\n",
    "                            self.map_control_values = update_map_res['values']\n",
    "\n",
    "                            time.sleep(0.05)\n",
    "\n",
    "                            # /* This is the official Way to Pass Function Response \n",
    "                            # It works in Normal Testing But Here it often fails with grpc 404 error\n",
    "                            # As Workaround here I have constructed a Manual Function Res and Passed it */\n",
    "\n",
    "                            # func_call_gemini_response = self.assistant.send_message(\n",
    "                            #    Part.from_function_response(\n",
    "                            #     name=function_call.name,\n",
    "                            #     response={\n",
    "                            #         \"content\": json.dumps(update_map_res),\n",
    "                            #     }\n",
    "                            # ),\n",
    "                            #     stream=True\n",
    "                            # )\n",
    "\n",
    "                            list_content: ContentsType = [prompt, json.dumps(update_map_res['status']), f\"Now continue from last message and helop plan travel in text formt - Funcation Calling completed. \"]\n",
    "                            \n",
    "                            func_call_gemini_response = self.assistant.send_message(\n",
    "                                list_content,\n",
    "                                stream=True\n",
    "                            )\n",
    "\n",
    "                            for message in func_call_gemini_response:\n",
    "                                part = message.candidates[0].content.parts[0]\n",
    "\n",
    "                                try:\n",
    "                                    text_content = part.text if hasattr(part, 'text') else None\n",
    "                                    if text_content:\n",
    "                                        print(\"Got Func Calling Text:\", text_content)\n",
    "                                        yield text_content\n",
    "                                except ValueError:\n",
    "                                    print(\n",
    "                                        \"No text content available in part:\", part)\n",
    "                                    yield \"Gemini is Sleeping!\"\n",
    "                                    pass\n",
    "                    except ValueError as e:\n",
    "                        print(f\"Error processing function call: {e}\")\n",
    "                        yield \"Funcation Calling Failed! Gemini is Sleeping!\"\n",
    "                        pass\n",
    "                else:\n",
    "                    yield \"Got Nothing\"\n",
    "                    \n",
    "        # Signal the end of the stream\n",
    "        yield \"__END__\""
   ]
  },
  {
   "cell_type": "code",
   "execution_count": 39,
   "metadata": {},
   "outputs": [],
   "source": [
    "ai_travel_maanger: GeminiTravelBotModal = GeminiTravelBotModal()\n",
    "\n",
    "\n",
    "def call_gemini_travel_assistant(prompt: str):\n",
    "    # Wait for the assistant to complete\n",
    "    messages = ai_travel_maanger.run_assistant(prompt)\n",
    "\n",
    "    # Collect all responses from the generator and yield them\n",
    "    for message in messages:\n",
    "        yield message\n",
    "        if message == \"__END__\":\n",
    "            break  # Exit the loop when the end of the stream is indicated"
   ]
  },
  {
   "cell_type": "markdown",
   "metadata": {},
   "source": [
    "#### Testing The Gemini Travel Bot Class Class"
   ]
  },
  {
   "cell_type": "code",
   "execution_count": 40,
   "metadata": {},
   "outputs": [
    {
     "name": "stdout",
     "output_type": "stream",
     "text": [
      "ValueError Text\n",
      "Got Function Response\n",
      "Function Call Name: update_map_and_markers\n",
      "Got Func Calling Text: Sure, I can help you plan a one-day trip to Tokyo, Japan\n",
      "Sure, I can help you plan a one-day trip to Tokyo, Japan\n",
      "Got Func Calling Text: . Here's a possible itinerary:\n",
      "\n",
      "* **Morning:**\n",
      "    *\n",
      ". Here's a possible itinerary:\n",
      "\n",
      "* **Morning:**\n",
      "    *\n",
      "Got Func Calling Text:  Start your day by visiting the iconic Tokyo Tower. Take the elevator to the top for stunning views of the city.\n",
      "    * After that, head to the\n",
      " Start your day by visiting the iconic Tokyo Tower. Take the elevator to the top for stunning views of the city.\n",
      "    * After that, head to the\n",
      "Got Func Calling Text:  nearby Sensō-ji temple, Tokyo's oldest Buddhist temple. Explore the temple grounds and admire the beautiful architecture.\n",
      "    * For lunch, try some of Tokyo's famous sushi at a local restaurant.\n",
      "* **Afternoon:**\n",
      "    * In the afternoon, visit the Harajuku district, known for its vibrant street fashion and pop culture.\n",
      "    * Take a walk down Takeshita Street and check out the many shops and boutiques.\n",
      "    *\n",
      " nearby Sensō-ji temple, Tokyo's oldest Buddhist temple. Explore the temple grounds and admire the beautiful architecture.\n",
      "    * For lunch, try some of Tokyo's famous sushi at a local restaurant.\n",
      "* **Afternoon:**\n",
      "    * In the afternoon, visit the Harajuku district, known for its vibrant street fashion and pop culture.\n",
      "    * Take a walk down Takeshita Street and check out the many shops and boutiques.\n",
      "    *\n",
      "Got Func Calling Text:  Be sure to try some of the delicious crepes that are sold on the street.\n",
      "* **Evening:**\n",
      "    * In the evening, head to the Shinjuku district, Tokyo's entertainment hub.\n",
      "    * Enjoy a delicious dinner at one of the many restaurants in the area.\n",
      "    * After dinner, take a walk through the Shinjuku Gyoen National Garden, a beautiful park that is especially popular during cherry blossom season.\n",
      "\n",
      "This is just a suggested itinerary, of course. You can customize it to fit your own interests and budget. Be sure to do some research before you go to make the most of your trip.\n",
      "\n",
      "Here are some additional tips for planning your trip:\n",
      "\n",
      "* **Book your flights and accommodation in advance.** Tokyo is a popular tourist destination, so it's important to book your travel arrangements early, especially if you're traveling during peak season.\n",
      "* **Get a Japan Rail Pass if you\n",
      " Be sure to try some of the delicious crepes that are sold on the street.\n",
      "* **Evening:**\n",
      "    * In the evening, head to the Shinjuku district, Tokyo's entertainment hub.\n",
      "    * Enjoy a delicious dinner at one of the many restaurants in the area.\n",
      "    * After dinner, take a walk through the Shinjuku Gyoen National Garden, a beautiful park that is especially popular during cherry blossom season.\n",
      "\n",
      "This is just a suggested itinerary, of course. You can customize it to fit your own interests and budget. Be sure to do some research before you go to make the most of your trip.\n",
      "\n",
      "Here are some additional tips for planning your trip:\n",
      "\n",
      "* **Book your flights and accommodation in advance.** Tokyo is a popular tourist destination, so it's important to book your travel arrangements early, especially if you're traveling during peak season.\n",
      "* **Get a Japan Rail Pass if you\n",
      "Got Func Calling Text: 're planning on doing a lot of traveling by train.** The Japan Rail Pass is a great way to save money on transportation costs.\n",
      "* **Learn a few basic Japanese phrases.** This will help you communicate with locals and get around more easily.\n",
      "* **Be prepared for crowds.** Tokyo is a very crowded city, so be prepared for long lines and lots of people.\n",
      "* **Have fun!** Tokyo is an amazing city with a lot to offer. Enjoy your trip!\n",
      "'re planning on doing a lot of traveling by train.** The Japan Rail Pass is a great way to save money on transportation costs.\n",
      "* **Learn a few basic Japanese phrases.** This will help you communicate with locals and get around more easily.\n",
      "* **Be prepared for crowds.** Tokyo is a very crowded city, so be prepared for long lines and lots of people.\n",
      "* **Have fun!** Tokyo is an amazing city with a lot to offer. Enjoy your trip!\n",
      "__END__\n"
     ]
    }
   ],
   "source": [
    "for message in call_gemini_travel_assistant(\"Let's visit Tokyo Japan and place 1 day travel trip there?\"):\n",
    "    # No need to check for __END__ here, as the loop in call_gemini_travel_assistant already handles it\n",
    "    print(message)"
   ]
  },
  {
   "cell_type": "code",
   "execution_count": 41,
   "metadata": {},
   "outputs": [
    {
     "data": {
      "text/plain": [
       "{'map_state': {'latitude': 35.6804, 'longitude': 139.766084, 'zoom': 12.0},\n",
       " 'markers_state': {'latitudes': [35.6804],\n",
       "  'longitudes': [139.766084],\n",
       "  'labels': ['Tokyo']}}"
      ]
     },
     "execution_count": 41,
     "metadata": {},
     "output_type": "execute_result"
    }
   ],
   "source": [
    "ai_travel_maanger.get_map_control_values()"
   ]
  },
  {
   "cell_type": "code",
   "execution_count": 42,
   "metadata": {},
   "outputs": [
    {
     "name": "stdout",
     "output_type": "stream",
     "text": [
      "Got Text\n",
      "Your last message was:\n",
      "\n",
      "> Let's visit Tokyo Japan and place \n",
      "Got Text\n",
      "1 day travel trip there?\n",
      "__END__\n"
     ]
    }
   ],
   "source": [
    "for message in call_gemini_travel_assistant(\"What was my last message\"):\n",
    "    print(message)\n",
    "    if message == \"__END__\":\n",
    "        break"
   ]
  },
  {
   "cell_type": "markdown",
   "metadata": {},
   "source": [
    "## Create AI Powered Map Interactions using Plotly"
   ]
  },
  {
   "cell_type": "code",
   "execution_count": 43,
   "metadata": {},
   "outputs": [],
   "source": [
    "import plotly.graph_objects as go\n",
    "from typing import Union\n",
    "\n",
    "# Function to create and display the map\n",
    "def create_map(map_state: dict[str, Union[float, str]], markers_state: dict[str, list[Union[float, str]]]) -> None:\n",
    "    \n",
    "    figure = go.Figure(go.Scattermapbox(mode=\"markers\"))\n",
    "    \n",
    "    figure.add_trace(\n",
    "        go.Scattermapbox(\n",
    "            mode=\"markers\",\n",
    "            marker=dict(color='red', size=14),\n",
    "            lat=markers_state[\"latitudes\"],\n",
    "            lon=markers_state[\"longitudes\"],\n",
    "            text=markers_state[\"labels\"]\n",
    "        )\n",
    "    )\n",
    "    \n",
    "    figure.update_layout(\n",
    "        mapbox=dict(\n",
    "            style=\"open-street-map\",\n",
    "            # accesstoken=MAPBOX_ACCESS_TOKEN, # If you don't have MAPBOX token, replace with style=\"open-street-map\".\n",
    "            center=go.layout.mapbox.Center(\n",
    "                lat=map_state[\"latitude\"],\n",
    "                lon=map_state[\"longitude\"]\n",
    "            ),\n",
    "            zoom=map_state[\"zoom\"]\n",
    "        ),\n",
    "        margin=dict(l=0, r=0, t=0, b=0)\n",
    "    )\n",
    "    figure.show()"
   ]
  },
  {
   "cell_type": "code",
   "execution_count": 44,
   "metadata": {},
   "outputs": [
    {
     "data": {
      "application/vnd.plotly.v1+json": {
       "config": {
        "plotlyServerURL": "https://plot.ly"
       },
       "data": [
        {
         "mode": "markers",
         "type": "scattermapbox"
        },
        {
         "lat": [
          35.6804
         ],
         "lon": [
          139.766084
         ],
         "marker": {
          "color": "red",
          "size": 14
         },
         "mode": "markers",
         "text": [
          "Tokyo"
         ],
         "type": "scattermapbox"
        }
       ],
       "layout": {
        "mapbox": {
         "center": {
          "lat": 35.6804,
          "lon": 139.766084
         },
         "style": "open-street-map",
         "zoom": 12
        },
        "margin": {
         "b": 0,
         "l": 0,
         "r": 0,
         "t": 0
        },
        "template": {
         "data": {
          "bar": [
           {
            "error_x": {
             "color": "#2a3f5f"
            },
            "error_y": {
             "color": "#2a3f5f"
            },
            "marker": {
             "line": {
              "color": "#E5ECF6",
              "width": 0.5
             },
             "pattern": {
              "fillmode": "overlay",
              "size": 10,
              "solidity": 0.2
             }
            },
            "type": "bar"
           }
          ],
          "barpolar": [
           {
            "marker": {
             "line": {
              "color": "#E5ECF6",
              "width": 0.5
             },
             "pattern": {
              "fillmode": "overlay",
              "size": 10,
              "solidity": 0.2
             }
            },
            "type": "barpolar"
           }
          ],
          "carpet": [
           {
            "aaxis": {
             "endlinecolor": "#2a3f5f",
             "gridcolor": "white",
             "linecolor": "white",
             "minorgridcolor": "white",
             "startlinecolor": "#2a3f5f"
            },
            "baxis": {
             "endlinecolor": "#2a3f5f",
             "gridcolor": "white",
             "linecolor": "white",
             "minorgridcolor": "white",
             "startlinecolor": "#2a3f5f"
            },
            "type": "carpet"
           }
          ],
          "choropleth": [
           {
            "colorbar": {
             "outlinewidth": 0,
             "ticks": ""
            },
            "type": "choropleth"
           }
          ],
          "contour": [
           {
            "colorbar": {
             "outlinewidth": 0,
             "ticks": ""
            },
            "colorscale": [
             [
              0,
              "#0d0887"
             ],
             [
              0.1111111111111111,
              "#46039f"
             ],
             [
              0.2222222222222222,
              "#7201a8"
             ],
             [
              0.3333333333333333,
              "#9c179e"
             ],
             [
              0.4444444444444444,
              "#bd3786"
             ],
             [
              0.5555555555555556,
              "#d8576b"
             ],
             [
              0.6666666666666666,
              "#ed7953"
             ],
             [
              0.7777777777777778,
              "#fb9f3a"
             ],
             [
              0.8888888888888888,
              "#fdca26"
             ],
             [
              1,
              "#f0f921"
             ]
            ],
            "type": "contour"
           }
          ],
          "contourcarpet": [
           {
            "colorbar": {
             "outlinewidth": 0,
             "ticks": ""
            },
            "type": "contourcarpet"
           }
          ],
          "heatmap": [
           {
            "colorbar": {
             "outlinewidth": 0,
             "ticks": ""
            },
            "colorscale": [
             [
              0,
              "#0d0887"
             ],
             [
              0.1111111111111111,
              "#46039f"
             ],
             [
              0.2222222222222222,
              "#7201a8"
             ],
             [
              0.3333333333333333,
              "#9c179e"
             ],
             [
              0.4444444444444444,
              "#bd3786"
             ],
             [
              0.5555555555555556,
              "#d8576b"
             ],
             [
              0.6666666666666666,
              "#ed7953"
             ],
             [
              0.7777777777777778,
              "#fb9f3a"
             ],
             [
              0.8888888888888888,
              "#fdca26"
             ],
             [
              1,
              "#f0f921"
             ]
            ],
            "type": "heatmap"
           }
          ],
          "heatmapgl": [
           {
            "colorbar": {
             "outlinewidth": 0,
             "ticks": ""
            },
            "colorscale": [
             [
              0,
              "#0d0887"
             ],
             [
              0.1111111111111111,
              "#46039f"
             ],
             [
              0.2222222222222222,
              "#7201a8"
             ],
             [
              0.3333333333333333,
              "#9c179e"
             ],
             [
              0.4444444444444444,
              "#bd3786"
             ],
             [
              0.5555555555555556,
              "#d8576b"
             ],
             [
              0.6666666666666666,
              "#ed7953"
             ],
             [
              0.7777777777777778,
              "#fb9f3a"
             ],
             [
              0.8888888888888888,
              "#fdca26"
             ],
             [
              1,
              "#f0f921"
             ]
            ],
            "type": "heatmapgl"
           }
          ],
          "histogram": [
           {
            "marker": {
             "pattern": {
              "fillmode": "overlay",
              "size": 10,
              "solidity": 0.2
             }
            },
            "type": "histogram"
           }
          ],
          "histogram2d": [
           {
            "colorbar": {
             "outlinewidth": 0,
             "ticks": ""
            },
            "colorscale": [
             [
              0,
              "#0d0887"
             ],
             [
              0.1111111111111111,
              "#46039f"
             ],
             [
              0.2222222222222222,
              "#7201a8"
             ],
             [
              0.3333333333333333,
              "#9c179e"
             ],
             [
              0.4444444444444444,
              "#bd3786"
             ],
             [
              0.5555555555555556,
              "#d8576b"
             ],
             [
              0.6666666666666666,
              "#ed7953"
             ],
             [
              0.7777777777777778,
              "#fb9f3a"
             ],
             [
              0.8888888888888888,
              "#fdca26"
             ],
             [
              1,
              "#f0f921"
             ]
            ],
            "type": "histogram2d"
           }
          ],
          "histogram2dcontour": [
           {
            "colorbar": {
             "outlinewidth": 0,
             "ticks": ""
            },
            "colorscale": [
             [
              0,
              "#0d0887"
             ],
             [
              0.1111111111111111,
              "#46039f"
             ],
             [
              0.2222222222222222,
              "#7201a8"
             ],
             [
              0.3333333333333333,
              "#9c179e"
             ],
             [
              0.4444444444444444,
              "#bd3786"
             ],
             [
              0.5555555555555556,
              "#d8576b"
             ],
             [
              0.6666666666666666,
              "#ed7953"
             ],
             [
              0.7777777777777778,
              "#fb9f3a"
             ],
             [
              0.8888888888888888,
              "#fdca26"
             ],
             [
              1,
              "#f0f921"
             ]
            ],
            "type": "histogram2dcontour"
           }
          ],
          "mesh3d": [
           {
            "colorbar": {
             "outlinewidth": 0,
             "ticks": ""
            },
            "type": "mesh3d"
           }
          ],
          "parcoords": [
           {
            "line": {
             "colorbar": {
              "outlinewidth": 0,
              "ticks": ""
             }
            },
            "type": "parcoords"
           }
          ],
          "pie": [
           {
            "automargin": true,
            "type": "pie"
           }
          ],
          "scatter": [
           {
            "fillpattern": {
             "fillmode": "overlay",
             "size": 10,
             "solidity": 0.2
            },
            "type": "scatter"
           }
          ],
          "scatter3d": [
           {
            "line": {
             "colorbar": {
              "outlinewidth": 0,
              "ticks": ""
             }
            },
            "marker": {
             "colorbar": {
              "outlinewidth": 0,
              "ticks": ""
             }
            },
            "type": "scatter3d"
           }
          ],
          "scattercarpet": [
           {
            "marker": {
             "colorbar": {
              "outlinewidth": 0,
              "ticks": ""
             }
            },
            "type": "scattercarpet"
           }
          ],
          "scattergeo": [
           {
            "marker": {
             "colorbar": {
              "outlinewidth": 0,
              "ticks": ""
             }
            },
            "type": "scattergeo"
           }
          ],
          "scattergl": [
           {
            "marker": {
             "colorbar": {
              "outlinewidth": 0,
              "ticks": ""
             }
            },
            "type": "scattergl"
           }
          ],
          "scattermapbox": [
           {
            "marker": {
             "colorbar": {
              "outlinewidth": 0,
              "ticks": ""
             }
            },
            "type": "scattermapbox"
           }
          ],
          "scatterpolar": [
           {
            "marker": {
             "colorbar": {
              "outlinewidth": 0,
              "ticks": ""
             }
            },
            "type": "scatterpolar"
           }
          ],
          "scatterpolargl": [
           {
            "marker": {
             "colorbar": {
              "outlinewidth": 0,
              "ticks": ""
             }
            },
            "type": "scatterpolargl"
           }
          ],
          "scatterternary": [
           {
            "marker": {
             "colorbar": {
              "outlinewidth": 0,
              "ticks": ""
             }
            },
            "type": "scatterternary"
           }
          ],
          "surface": [
           {
            "colorbar": {
             "outlinewidth": 0,
             "ticks": ""
            },
            "colorscale": [
             [
              0,
              "#0d0887"
             ],
             [
              0.1111111111111111,
              "#46039f"
             ],
             [
              0.2222222222222222,
              "#7201a8"
             ],
             [
              0.3333333333333333,
              "#9c179e"
             ],
             [
              0.4444444444444444,
              "#bd3786"
             ],
             [
              0.5555555555555556,
              "#d8576b"
             ],
             [
              0.6666666666666666,
              "#ed7953"
             ],
             [
              0.7777777777777778,
              "#fb9f3a"
             ],
             [
              0.8888888888888888,
              "#fdca26"
             ],
             [
              1,
              "#f0f921"
             ]
            ],
            "type": "surface"
           }
          ],
          "table": [
           {
            "cells": {
             "fill": {
              "color": "#EBF0F8"
             },
             "line": {
              "color": "white"
             }
            },
            "header": {
             "fill": {
              "color": "#C8D4E3"
             },
             "line": {
              "color": "white"
             }
            },
            "type": "table"
           }
          ]
         },
         "layout": {
          "annotationdefaults": {
           "arrowcolor": "#2a3f5f",
           "arrowhead": 0,
           "arrowwidth": 1
          },
          "autotypenumbers": "strict",
          "coloraxis": {
           "colorbar": {
            "outlinewidth": 0,
            "ticks": ""
           }
          },
          "colorscale": {
           "diverging": [
            [
             0,
             "#8e0152"
            ],
            [
             0.1,
             "#c51b7d"
            ],
            [
             0.2,
             "#de77ae"
            ],
            [
             0.3,
             "#f1b6da"
            ],
            [
             0.4,
             "#fde0ef"
            ],
            [
             0.5,
             "#f7f7f7"
            ],
            [
             0.6,
             "#e6f5d0"
            ],
            [
             0.7,
             "#b8e186"
            ],
            [
             0.8,
             "#7fbc41"
            ],
            [
             0.9,
             "#4d9221"
            ],
            [
             1,
             "#276419"
            ]
           ],
           "sequential": [
            [
             0,
             "#0d0887"
            ],
            [
             0.1111111111111111,
             "#46039f"
            ],
            [
             0.2222222222222222,
             "#7201a8"
            ],
            [
             0.3333333333333333,
             "#9c179e"
            ],
            [
             0.4444444444444444,
             "#bd3786"
            ],
            [
             0.5555555555555556,
             "#d8576b"
            ],
            [
             0.6666666666666666,
             "#ed7953"
            ],
            [
             0.7777777777777778,
             "#fb9f3a"
            ],
            [
             0.8888888888888888,
             "#fdca26"
            ],
            [
             1,
             "#f0f921"
            ]
           ],
           "sequentialminus": [
            [
             0,
             "#0d0887"
            ],
            [
             0.1111111111111111,
             "#46039f"
            ],
            [
             0.2222222222222222,
             "#7201a8"
            ],
            [
             0.3333333333333333,
             "#9c179e"
            ],
            [
             0.4444444444444444,
             "#bd3786"
            ],
            [
             0.5555555555555556,
             "#d8576b"
            ],
            [
             0.6666666666666666,
             "#ed7953"
            ],
            [
             0.7777777777777778,
             "#fb9f3a"
            ],
            [
             0.8888888888888888,
             "#fdca26"
            ],
            [
             1,
             "#f0f921"
            ]
           ]
          },
          "colorway": [
           "#636efa",
           "#EF553B",
           "#00cc96",
           "#ab63fa",
           "#FFA15A",
           "#19d3f3",
           "#FF6692",
           "#B6E880",
           "#FF97FF",
           "#FECB52"
          ],
          "font": {
           "color": "#2a3f5f"
          },
          "geo": {
           "bgcolor": "white",
           "lakecolor": "white",
           "landcolor": "#E5ECF6",
           "showlakes": true,
           "showland": true,
           "subunitcolor": "white"
          },
          "hoverlabel": {
           "align": "left"
          },
          "hovermode": "closest",
          "mapbox": {
           "style": "light"
          },
          "paper_bgcolor": "white",
          "plot_bgcolor": "#E5ECF6",
          "polar": {
           "angularaxis": {
            "gridcolor": "white",
            "linecolor": "white",
            "ticks": ""
           },
           "bgcolor": "#E5ECF6",
           "radialaxis": {
            "gridcolor": "white",
            "linecolor": "white",
            "ticks": ""
           }
          },
          "scene": {
           "xaxis": {
            "backgroundcolor": "#E5ECF6",
            "gridcolor": "white",
            "gridwidth": 2,
            "linecolor": "white",
            "showbackground": true,
            "ticks": "",
            "zerolinecolor": "white"
           },
           "yaxis": {
            "backgroundcolor": "#E5ECF6",
            "gridcolor": "white",
            "gridwidth": 2,
            "linecolor": "white",
            "showbackground": true,
            "ticks": "",
            "zerolinecolor": "white"
           },
           "zaxis": {
            "backgroundcolor": "#E5ECF6",
            "gridcolor": "white",
            "gridwidth": 2,
            "linecolor": "white",
            "showbackground": true,
            "ticks": "",
            "zerolinecolor": "white"
           }
          },
          "shapedefaults": {
           "line": {
            "color": "#2a3f5f"
           }
          },
          "ternary": {
           "aaxis": {
            "gridcolor": "white",
            "linecolor": "white",
            "ticks": ""
           },
           "baxis": {
            "gridcolor": "white",
            "linecolor": "white",
            "ticks": ""
           },
           "bgcolor": "#E5ECF6",
           "caxis": {
            "gridcolor": "white",
            "linecolor": "white",
            "ticks": ""
           }
          },
          "title": {
           "x": 0.05
          },
          "xaxis": {
           "automargin": true,
           "gridcolor": "white",
           "linecolor": "white",
           "ticks": "",
           "title": {
            "standoff": 15
           },
           "zerolinecolor": "white",
           "zerolinewidth": 2
          },
          "yaxis": {
           "automargin": true,
           "gridcolor": "white",
           "linecolor": "white",
           "ticks": "",
           "title": {
            "standoff": 15
           },
           "zerolinecolor": "white",
           "zerolinewidth": 2
          }
         }
        }
       }
      }
     },
     "metadata": {},
     "output_type": "display_data"
    }
   ],
   "source": [
    "create_map(map_state=ai_powered_map['map_state'], markers_state=ai_powered_map['markers_state'])\n"
   ]
  },
  {
   "cell_type": "markdown",
   "metadata": {},
   "source": [
    "Congrats on building the Streaming Travel AI Assistant Proof of concept proof of concept. Currently the concept is well suited for single user.\n",
    "\n",
    "Now we have the complete code and we can move on designing the FastAPI Microservice. We will use the above plotly map to create AI powered map interactions with streamlit."
   ]
  },
  {
   "cell_type": "markdown",
   "metadata": {},
   "source": [
    "Does the Map looks outdated? Go to MapBox, signup and get your access token.\n",
    "\n",
    "Next in the create_map function you can pass this token comment the map-style argument,\n",
    "\n",
    "    figure.update_layout(\n",
    "        mapbox=dict(\n",
    "            accesstoken=MAPBOX_ACCESS_TOKEN, # If you don't have MAPBOX token, replace with style=\"open-street-map\".\n",
    "            center=go.layout.mapbox.Center(\n",
    "                lat=map_state[\"latitude\"],\n",
    "                lon=map_state[\"longitude\"]\n",
    "            ),\n",
    "            zoom=map_state[\"zoom\"]\n",
    "        ),\n",
    "        margin=dict(l=0, r=0, t=0, b=0)\n",
    "    )"
   ]
  }
 ],
 "metadata": {
  "kernelspec": {
   "display_name": "fast_api",
   "language": "python",
   "name": "python3"
  },
  "language_info": {
   "codemirror_mode": {
    "name": "ipython",
    "version": 3
   },
   "file_extension": ".py",
   "mimetype": "text/x-python",
   "name": "python",
   "nbconvert_exporter": "python",
   "pygments_lexer": "ipython3",
   "version": "3.12.0"
  }
 },
 "nbformat": 4,
 "nbformat_minor": 2
}
